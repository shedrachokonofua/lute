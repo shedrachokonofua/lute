{
 "cells": [
  {
   "cell_type": "code",
   "execution_count": 2,
   "id": "70bd9eb2-66aa-4a8a-a486-c85730a542d2",
   "metadata": {},
   "outputs": [
    {
     "name": "stderr",
     "output_type": "stream",
     "text": [
      "/home/shdrch/.cache/pypoetry/virtualenvs/graph-data-science-pnL-du_3-py3.12/lib/python3.12/site-packages/tqdm/auto.py:21: TqdmWarning: IProgress not found. Please update jupyter and ipywidgets. See https://ipywidgets.readthedocs.io/en/stable/user_install.html\n",
      "  from .autonotebook import tqdm as notebook_tqdm\n",
      "Received notification from DBMS server: {severity: WARNING} {code: Neo.ClientNotification.Statement.FeatureDeprecationWarning} {category: DEPRECATION} {title: This feature is deprecated and will be removed in future versions.} {description: The query used a deprecated field from a procedure. ('advertisedListenAddress' returned by 'gds.debug.arrow' is deprecated.)} {position: line: 1, column: 1, offset: 0} for query: 'CALL gds.debug.arrow()'\n",
      "Received notification from DBMS server: {severity: WARNING} {code: Neo.ClientNotification.Statement.FeatureDeprecationWarning} {category: DEPRECATION} {title: This feature is deprecated and will be removed in future versions.} {description: The query used a deprecated field from a procedure. ('serverLocation' returned by 'gds.debug.arrow' is deprecated.)} {position: line: 1, column: 1, offset: 0} for query: 'CALL gds.debug.arrow()'\n"
     ]
    }
   ],
   "source": [
    "from graph.settings import NEO4J_URL\n",
    "from graphdatascience import GraphDataScience\n",
    "gds = GraphDataScience(NEO4J_URL)"
   ]
  },
  {
   "cell_type": "markdown",
   "id": "39182773-bb70-4bac-b918-f9457fff2505",
   "metadata": {},
   "source": [
    "## Lute Graph Projection Memory Estimate "
   ]
  },
  {
   "cell_type": "code",
   "execution_count": 4,
   "id": "33db1c5a-1743-45c8-bf0d-b63388f44200",
   "metadata": {},
   "outputs": [
    {
     "name": "stdout",
     "output_type": "stream",
     "text": [
      "Required memory for native loading: [78 MiB ... 84 MiB]\n"
     ]
    }
   ],
   "source": [
    "node_projection = [\"Album\", \"Genre\", \"Artist\", \"Descriptor\", \"Language\"]\n",
    "relationship_projection = {\n",
    "    \"GENRE\": {\"orientation\": \"UNDIRECTED\", \"properties\": \"weight\"},\n",
    "    \"DESCRIPTOR\": {\"orientation\": \"UNDIRECTED\"},\n",
    "    \"LANGUAGE\": {\"orientation\": \"UNDIRECTED\"},\n",
    "    \"ALBUM_ARTIST\": {\"orientation\": \"UNDIRECTED\"},\n",
    "    \"CREDITED\": {\"orientation\": \"UNDIRECTED\"},\n",
    "}\n",
    "result = gds.graph.project.estimate(node_projection, relationship_projection)\n",
    "\n",
    "print(f\"Required memory for native loading: {result['requiredMemory']}\")"
   ]
  },
  {
   "cell_type": "markdown",
   "id": "c240e030-5806-4666-9de1-749f69837d94",
   "metadata": {},
   "source": [
    "## Projection"
   ]
  },
  {
   "cell_type": "code",
   "execution_count": 19,
   "id": "a0b3382c-cf67-4625-a3ce-a3c8e232de5d",
   "metadata": {},
   "outputs": [
    {
     "name": "stdout",
     "output_type": "stream",
     "text": [
      "The projection took 212 ms\n",
      "Graph 'lute' node count: 192816\n",
      "Graph 'lute' relationship count: 3128358\n"
     ]
    }
   ],
   "source": [
    "\n",
    "G, result = gds.graph.project(\"lute\", node_projection, relationship_projection)\n",
    "print(f\"The projection took {result['projectMillis']} ms\")\n",
    "print(f\"Graph '{G.name()}' node count: {G.node_count()}\")\n",
    "print(f\"Graph '{G.name()}' relationship count: {G.relationship_count()}\")"
   ]
  },
  {
   "cell_type": "markdown",
   "id": "4cacb1a1-ea23-4e08-9637-d0c043855d53",
   "metadata": {},
   "source": [
    "## Creating FastRP Embeddings"
   ]
  },
  {
   "cell_type": "markdown",
   "id": "9354a37d-29ef-443e-9d43-44ff0f8ac257",
   "metadata": {},
   "source": [
    "### Estimate Required Memory"
   ]
  },
  {
   "cell_type": "code",
   "execution_count": 20,
   "id": "d543bf3f-8e76-49c0-875f-6bdda0b076c0",
   "metadata": {},
   "outputs": [
    {
     "name": "stdout",
     "output_type": "stream",
     "text": [
      "Required memory for running FastRP: 1147 MiB\n"
     ]
    }
   ],
   "source": [
    "result = gds.fastRP.mutate.estimate(\n",
    "    G,\n",
    "    embeddingDimension=512,\n",
    "    mutateProperty=\"embedding\",\n",
    "    randomSeed=42,\n",
    ")\n",
    "\n",
    "print(f\"Required memory for running FastRP: {result[\"requiredMemory\"]}\")"
   ]
  },
  {
   "cell_type": "markdown",
   "id": "47f8660a-d6e3-4bb1-8d0d-8d2d69085277",
   "metadata": {},
   "source": [
    "### Generate Embeddings"
   ]
  },
  {
   "cell_type": "code",
   "execution_count": 21,
   "id": "5bc6844c-d874-4635-8edc-7c9ae4bc42a4",
   "metadata": {},
   "outputs": [
    {
     "name": "stderr",
     "output_type": "stream",
     "text": [
      "FastRP: 100%|███████████████████████████████████████████████████████████████████████████████████████████████████████████████████| 100.0/100 [00:00<00:00, 120.81%/s]"
     ]
    },
    {
     "name": "stdout",
     "output_type": "stream",
     "text": [
      "Number of embedding vectors produced: 192816\n"
     ]
    },
    {
     "name": "stderr",
     "output_type": "stream",
     "text": [
      "\n"
     ]
    }
   ],
   "source": [
    "result = gds.fastRP.mutate(\n",
    "    G,\n",
    "    embeddingDimension=512,\n",
    "    mutateProperty=\"embedding\",\n",
    "    randomSeed=42,\n",
    ")\n",
    "\n",
    "print(f\"Number of embedding vectors produced: {result['nodePropertiesWritten']}\")"
   ]
  },
  {
   "cell_type": "markdown",
   "id": "367a100c-2238-43b5-9f4e-facb58aacd13",
   "metadata": {},
   "source": [
    "### Compute KNN Similarity Scores"
   ]
  },
  {
   "cell_type": "code",
   "execution_count": 22,
   "id": "6f089db4-672d-4a21-8228-74b11a6c29fc",
   "metadata": {},
   "outputs": [
    {
     "name": "stderr",
     "output_type": "stream",
     "text": [
      "K-Nearest Neighbours: 100%|██████████████████████████████████████████████████████████████████████████████████████████████████████| 100.0/100 [01:26<00:00,  3.82s/%]"
     ]
    },
    {
     "name": "stdout",
     "output_type": "stream",
     "text": [
      "Relationships produced: 631680\n",
      "Nodes compared: 63168\n",
      "Mean similarity: 0.8638176306833917\n"
     ]
    }
   ],
   "source": [
    "result = gds.knn.write(\n",
    "    G,\n",
    "    topK=10,\n",
    "    nodeProperties=[\"embedding\"],\n",
    "    randomSeed=42,\n",
    "    concurrency=1,\n",
    "    sampleRate=1.0,\n",
    "    deltaThreshold=0.0,\n",
    "    writeRelationshipType=\"SIMILAR\",\n",
    "    writeProperty=\"score\",\n",
    "    nodeLabels=[\"Album\"]\n",
    ")\n",
    "\n",
    "print(f\"Relationships produced: {result['relationshipsWritten']}\")\n",
    "print(f\"Nodes compared: {result['nodesCompared']}\")\n",
    "print(f\"Mean similarity: {result['similarityDistribution']['mean']}\")"
   ]
  },
  {
   "cell_type": "markdown",
   "id": "3a8dc1fb-94c0-4eb0-a7e0-4cbeb95b0573",
   "metadata": {},
   "source": [
    "### Explore Similar Albums"
   ]
  },
  {
   "cell_type": "code",
   "execution_count": 31,
   "id": "92048545-fb42-4c7a-b6bc-2c2916d4b7d8",
   "metadata": {},
   "outputs": [
    {
     "data": {
      "text/html": [
       "<div>\n",
       "<style scoped>\n",
       "    .dataframe tbody tr th:only-of-type {\n",
       "        vertical-align: middle;\n",
       "    }\n",
       "\n",
       "    .dataframe tbody tr th {\n",
       "        vertical-align: top;\n",
       "    }\n",
       "\n",
       "    .dataframe thead th {\n",
       "        text-align: right;\n",
       "    }\n",
       "</style>\n",
       "<table border=\"1\" class=\"dataframe\">\n",
       "  <thead>\n",
       "    <tr style=\"text-align: right;\">\n",
       "      <th></th>\n",
       "      <th>person1</th>\n",
       "      <th>person2</th>\n",
       "      <th>similarity</th>\n",
       "    </tr>\n",
       "  </thead>\n",
       "  <tbody>\n",
       "    <tr>\n",
       "      <th>0</th>\n",
       "      <td>Couldn't Wait to Tell You...</td>\n",
       "      <td>release/ep/liv_e/cwtty</td>\n",
       "      <td>0.965559</td>\n",
       "    </tr>\n",
       "    <tr>\n",
       "      <th>1</th>\n",
       "      <td>Couldn't Wait to Tell You...</td>\n",
       "      <td>release/album/standing-on-the-corner/standing-...</td>\n",
       "      <td>0.964727</td>\n",
       "    </tr>\n",
       "    <tr>\n",
       "      <th>2</th>\n",
       "      <td>Couldn't Wait to Tell You...</td>\n",
       "      <td>release/album/liv_e/githpremixedition</td>\n",
       "      <td>0.961066</td>\n",
       "    </tr>\n",
       "    <tr>\n",
       "      <th>3</th>\n",
       "      <td>Couldn't Wait to Tell You...</td>\n",
       "      <td>release/album/flanafi/flanafi</td>\n",
       "      <td>0.958283</td>\n",
       "    </tr>\n",
       "    <tr>\n",
       "      <th>4</th>\n",
       "      <td>Couldn't Wait to Tell You...</td>\n",
       "      <td>release/album/liv_e/girl-in-the-half-pearl</td>\n",
       "      <td>0.957136</td>\n",
       "    </tr>\n",
       "    <tr>\n",
       "      <th>5</th>\n",
       "      <td>Couldn't Wait to Tell You...</td>\n",
       "      <td>release/album/xenia-franca/em-nome-da-estrela</td>\n",
       "      <td>0.956973</td>\n",
       "    </tr>\n",
       "    <tr>\n",
       "      <th>6</th>\n",
       "      <td>Couldn't Wait to Tell You...</td>\n",
       "      <td>release/album/eddie-chacon/sundown</td>\n",
       "      <td>0.955877</td>\n",
       "    </tr>\n",
       "    <tr>\n",
       "      <th>7</th>\n",
       "      <td>Couldn't Wait to Tell You...</td>\n",
       "      <td>release/ep/lazygod-x-cartiergod/vapordrip</td>\n",
       "      <td>0.955366</td>\n",
       "    </tr>\n",
       "    <tr>\n",
       "      <th>8</th>\n",
       "      <td>Couldn't Wait to Tell You...</td>\n",
       "      <td>release/ep/laurel-halo/ambrosia-ep</td>\n",
       "      <td>0.953300</td>\n",
       "    </tr>\n",
       "    <tr>\n",
       "      <th>9</th>\n",
       "      <td>Couldn't Wait to Tell You...</td>\n",
       "      <td>release/album/hefner_f1/residue</td>\n",
       "      <td>0.952982</td>\n",
       "    </tr>\n",
       "    <tr>\n",
       "      <th>10</th>\n",
       "      <td>Couldn't Wait to Tell You...</td>\n",
       "      <td>release/album/devendra-banhart/flying-wig</td>\n",
       "      <td>0.952959</td>\n",
       "    </tr>\n",
       "    <tr>\n",
       "      <th>11</th>\n",
       "      <td>Couldn't Wait to Tell You...</td>\n",
       "      <td>release/mixtape/kali-uchis/drunken-babble</td>\n",
       "      <td>0.952671</td>\n",
       "    </tr>\n",
       "    <tr>\n",
       "      <th>12</th>\n",
       "      <td>Couldn't Wait to Tell You...</td>\n",
       "      <td>release/album/相対性理論/天声ジングル-tensei-jingle</td>\n",
       "      <td>0.949847</td>\n",
       "    </tr>\n",
       "    <tr>\n",
       "      <th>13</th>\n",
       "      <td>Couldn't Wait to Tell You...</td>\n",
       "      <td>release/album/collarbones/die_young</td>\n",
       "      <td>0.949305</td>\n",
       "    </tr>\n",
       "    <tr>\n",
       "      <th>14</th>\n",
       "      <td>Couldn't Wait to Tell You...</td>\n",
       "      <td>release/album/black-party/mango</td>\n",
       "      <td>0.948510</td>\n",
       "    </tr>\n",
       "  </tbody>\n",
       "</table>\n",
       "</div>"
      ],
      "text/plain": [
       "                         person1  \\\n",
       "0   Couldn't Wait to Tell You...   \n",
       "1   Couldn't Wait to Tell You...   \n",
       "2   Couldn't Wait to Tell You...   \n",
       "3   Couldn't Wait to Tell You...   \n",
       "4   Couldn't Wait to Tell You...   \n",
       "5   Couldn't Wait to Tell You...   \n",
       "6   Couldn't Wait to Tell You...   \n",
       "7   Couldn't Wait to Tell You...   \n",
       "8   Couldn't Wait to Tell You...   \n",
       "9   Couldn't Wait to Tell You...   \n",
       "10  Couldn't Wait to Tell You...   \n",
       "11  Couldn't Wait to Tell You...   \n",
       "12  Couldn't Wait to Tell You...   \n",
       "13  Couldn't Wait to Tell You...   \n",
       "14  Couldn't Wait to Tell You...   \n",
       "\n",
       "                                              person2  similarity  \n",
       "0                              release/ep/liv_e/cwtty    0.965559  \n",
       "1   release/album/standing-on-the-corner/standing-...    0.964727  \n",
       "2               release/album/liv_e/githpremixedition    0.961066  \n",
       "3                       release/album/flanafi/flanafi    0.958283  \n",
       "4          release/album/liv_e/girl-in-the-half-pearl    0.957136  \n",
       "5       release/album/xenia-franca/em-nome-da-estrela    0.956973  \n",
       "6                  release/album/eddie-chacon/sundown    0.955877  \n",
       "7           release/ep/lazygod-x-cartiergod/vapordrip    0.955366  \n",
       "8                  release/ep/laurel-halo/ambrosia-ep    0.953300  \n",
       "9                     release/album/hefner_f1/residue    0.952982  \n",
       "10          release/album/devendra-banhart/flying-wig    0.952959  \n",
       "11          release/mixtape/kali-uchis/drunken-babble    0.952671  \n",
       "12           release/album/相対性理論/天声ジングル-tensei-jingle    0.949847  \n",
       "13                release/album/collarbones/die_young    0.949305  \n",
       "14                    release/album/black-party/mango    0.948510  "
      ]
     },
     "execution_count": 31,
     "metadata": {},
     "output_type": "execute_result"
    }
   ],
   "source": [
    "gds.run_cypher(\n",
    "    \"\"\"\n",
    "        MATCH (p1:Album{file_name:\"release/album/liv_e/couldnt-wait-to-tell-you\"})-[r:SIMILAR]->(p2:Album)\n",
    "        RETURN p1.name AS person1, p2.file_name AS person2, r.score AS similarity\n",
    "        ORDER BY similarity DESCENDING, person1, person2\n",
    "    \"\"\"\n",
    ")"
   ]
  },
  {
   "cell_type": "markdown",
   "id": "3eb30c51-ca5f-4543-96f6-dc86ff622876",
   "metadata": {},
   "source": [
    "## Drop Graph"
   ]
  },
  {
   "cell_type": "code",
   "execution_count": 18,
   "id": "e81ba7e2-c9de-4d08-a068-4ff70753107b",
   "metadata": {},
   "outputs": [
    {
     "name": "stderr",
     "output_type": "stream",
     "text": [
      "Received notification from DBMS server: {severity: WARNING} {code: Neo.ClientNotification.Statement.FeatureDeprecationWarning} {category: DEPRECATION} {title: This feature is deprecated and will be removed in future versions.} {description: The query used a deprecated field from a procedure. ('schema' returned by 'gds.graph.drop' is deprecated.)} {position: line: 1, column: 1, offset: 0} for query: 'CALL gds.graph.drop($graph_name, $fail_if_missing, $db_name)'\n"
     ]
    },
    {
     "data": {
      "text/plain": [
       "graphName                                                             lute\n",
       "database                                                             neo4j\n",
       "databaseLocation                                                     local\n",
       "memoryUsage                                                               \n",
       "sizeInBytes                                                             -1\n",
       "nodeCount                                                           192816\n",
       "relationshipCount                                                  3128358\n",
       "configuration            {'relationshipProjection': {'ALBUM_ARTIST': {'...\n",
       "density                                                           0.000084\n",
       "creationTime                           2024-07-16T04:39:13.239770215+00:00\n",
       "modificationTime                       2024-07-16T04:39:16.327261509+00:00\n",
       "schema                   {'graphProperties': {}, 'nodes': {'Descriptor'...\n",
       "schemaWithOrientation    {'graphProperties': {}, 'nodes': {'Descriptor'...\n",
       "Name: 0, dtype: object"
      ]
     },
     "execution_count": 18,
     "metadata": {},
     "output_type": "execute_result"
    }
   ],
   "source": [
    "gds.graph.drop(\"lute\")"
   ]
  }
 ],
 "metadata": {
  "kernelspec": {
   "display_name": "Python 3 (ipykernel)",
   "language": "python",
   "name": "python3"
  },
  "language_info": {
   "codemirror_mode": {
    "name": "ipython",
    "version": 3
   },
   "file_extension": ".py",
   "mimetype": "text/x-python",
   "name": "python",
   "nbconvert_exporter": "python",
   "pygments_lexer": "ipython3",
   "version": "3.12.3"
  }
 },
 "nbformat": 4,
 "nbformat_minor": 5
}
